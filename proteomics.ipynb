{
 "cells": [
  {
   "cell_type": "code",
   "execution_count": 3,
   "metadata": {},
   "outputs": [],
   "source": [
    "import pandas as pd\n",
    "\n",
    "df = pd.read_excel('proteomics_evs.xlsx', 'dBTEV to dBTWCL')"
   ]
  },
  {
   "cell_type": "code",
   "execution_count": 4,
   "metadata": {},
   "outputs": [],
   "source": [
    "gene_cols = ['Accession', 'Description', 'Gene symbol']\n",
    "# comparison 1\n",
    "dBT_WCL_cols = ['dBT_114_WCL', 'dBT_116_WCL', 'dBT_120_WCL']\n",
    "dBT_EV_cols = ['dBT_114_EV', 'dBT_116_EV', 'dBT_120_EV']\n",
    "# comparsion 2\n",
    "astro_WCL_cols = ['Astro_1_WCL', 'Astro_2_WCL', 'Astro_3_WCL']\n",
    "astro_EV_cols = ['Astro_1_EV', 'Astro_2_EV', 'Astro_3_EV']\n",
    "\n"
   ]
  },
  {
   "cell_type": "code",
   "execution_count": 5,
   "metadata": {},
   "outputs": [],
   "source": [
    "df2 = df.loc[:, gene_cols].copy()"
   ]
  },
  {
   "cell_type": "code",
   "execution_count": 6,
   "metadata": {},
   "outputs": [
    {
     "data": {
      "text/plain": [
       "0       0.784298\n",
       "1       3.767199\n",
       "2       2.320155\n",
       "3       0.333763\n",
       "4      -0.106535\n",
       "          ...   \n",
       "3208   -4.798293\n",
       "3209   -4.766052\n",
       "3210   -4.744745\n",
       "3211   -4.640128\n",
       "3212   -4.814932\n",
       "Length: 3213, dtype: float64"
      ]
     },
     "execution_count": 6,
     "metadata": {},
     "output_type": "execute_result"
    }
   ],
   "source": [
    "df.loc[:, dBT_EV_cols].mean(axis=1)"
   ]
  },
  {
   "cell_type": "code",
   "execution_count": 7,
   "metadata": {},
   "outputs": [],
   "source": [
    "df2['dBTEV-WCL'] = df.loc[:, dBT_EV_cols].mean(axis=1) - df.loc[:, dBT_WCL_cols].mean(axis=1)\n",
    "df2['astroEV-WCL'] = df.loc[:, astro_EV_cols].mean(axis=1) - df.loc[:, astro_WCL_cols].mean(axis=1)"
   ]
  },
  {
   "cell_type": "code",
   "execution_count": 8,
   "metadata": {},
   "outputs": [
    {
     "data": {
      "text/html": [
       "<div>\n",
       "<style scoped>\n",
       "    .dataframe tbody tr th:only-of-type {\n",
       "        vertical-align: middle;\n",
       "    }\n",
       "\n",
       "    .dataframe tbody tr th {\n",
       "        vertical-align: top;\n",
       "    }\n",
       "\n",
       "    .dataframe thead th {\n",
       "        text-align: right;\n",
       "    }\n",
       "</style>\n",
       "<table border=\"1\" class=\"dataframe\">\n",
       "  <thead>\n",
       "    <tr style=\"text-align: right;\">\n",
       "      <th></th>\n",
       "      <th>Accession</th>\n",
       "      <th>Description</th>\n",
       "      <th>Gene symbol</th>\n",
       "      <th>dBTEV-WCL</th>\n",
       "      <th>astroEV-WCL</th>\n",
       "    </tr>\n",
       "  </thead>\n",
       "  <tbody>\n",
       "    <tr>\n",
       "      <th>0</th>\n",
       "      <td>O94955</td>\n",
       "      <td>Rho-related BTB domain-containing protein 3</td>\n",
       "      <td>RHOBTB3</td>\n",
       "      <td>5.314422</td>\n",
       "      <td>0.137433</td>\n",
       "    </tr>\n",
       "    <tr>\n",
       "      <th>1</th>\n",
       "      <td>P16035</td>\n",
       "      <td>Metalloproteinase inhibitor 2</td>\n",
       "      <td>TIMP2</td>\n",
       "      <td>7.803960</td>\n",
       "      <td>2.849515</td>\n",
       "    </tr>\n",
       "    <tr>\n",
       "      <th>2</th>\n",
       "      <td>P28072</td>\n",
       "      <td>Proteasome subunit beta type-6</td>\n",
       "      <td>PSMB6</td>\n",
       "      <td>6.663266</td>\n",
       "      <td>2.705477</td>\n",
       "    </tr>\n",
       "    <tr>\n",
       "      <th>3</th>\n",
       "      <td>Q9BTY2</td>\n",
       "      <td>Plasma alpha-L-fucosidase</td>\n",
       "      <td>FUCA2</td>\n",
       "      <td>4.870684</td>\n",
       "      <td>-1.358395</td>\n",
       "    </tr>\n",
       "    <tr>\n",
       "      <th>4</th>\n",
       "      <td>P61966</td>\n",
       "      <td>AP-1 complex subunit sigma-1A</td>\n",
       "      <td>AP1S1</td>\n",
       "      <td>4.428192</td>\n",
       "      <td>-0.261821</td>\n",
       "    </tr>\n",
       "  </tbody>\n",
       "</table>\n",
       "</div>"
      ],
      "text/plain": [
       "  Accession                                  Description Gene symbol  \\\n",
       "0    O94955  Rho-related BTB domain-containing protein 3     RHOBTB3   \n",
       "1    P16035                Metalloproteinase inhibitor 2       TIMP2   \n",
       "2    P28072               Proteasome subunit beta type-6       PSMB6   \n",
       "3    Q9BTY2                    Plasma alpha-L-fucosidase       FUCA2   \n",
       "4    P61966                AP-1 complex subunit sigma-1A       AP1S1   \n",
       "\n",
       "   dBTEV-WCL  astroEV-WCL  \n",
       "0   5.314422     0.137433  \n",
       "1   7.803960     2.849515  \n",
       "2   6.663266     2.705477  \n",
       "3   4.870684    -1.358395  \n",
       "4   4.428192    -0.261821  "
      ]
     },
     "execution_count": 8,
     "metadata": {},
     "output_type": "execute_result"
    }
   ],
   "source": [
    "df2.head()"
   ]
  },
  {
   "cell_type": "code",
   "execution_count": 9,
   "metadata": {},
   "outputs": [
    {
     "data": {
      "text/plain": [
       "[0.9163991606180169, 0.6126083238001812, 0.8238857528745136]"
      ]
     },
     "execution_count": 9,
     "metadata": {},
     "output_type": "execute_result"
    }
   ],
   "source": [
    "df.loc[0, dBT_EV_cols].to_list()"
   ]
  },
  {
   "cell_type": "code",
   "execution_count": 10,
   "metadata": {},
   "outputs": [],
   "source": [
    "from scipy.stats import ttest_ind\n",
    "import pandas as pd\n",
    "import numpy as np\n",
    "\n",
    "def calc_ttest(series1: pd.Series, series2: pd.Series) -> float:\n",
    "  _, p_value = ttest_ind(series1.to_list(), series2.to_list(), equal_var=False)\n",
    "  return p_value\n",
    "\n",
    "df2['dBTEV-WCL_ttest'] = -np.log2(df.apply(lambda row: calc_ttest(row[dBT_EV_cols], row[dBT_WCL_cols]), axis=1))\n",
    "df2['astroEV-WCL_ttest'] = -np.log2(df.apply(lambda row: calc_ttest(row[astro_EV_cols], row[astro_WCL_cols]), axis=1))"
   ]
  },
  {
   "cell_type": "code",
   "execution_count": 11,
   "metadata": {},
   "outputs": [],
   "source": [
    "df2['dBTEV-WCL_score'] = df2['dBTEV-WCL'] * df2['dBTEV-WCL_ttest']\n",
    "df2['astroEV-WCL_score'] = df2['astroEV-WCL'] * df2['astroEV-WCL_ttest']"
   ]
  },
  {
   "cell_type": "code",
   "execution_count": 12,
   "metadata": {},
   "outputs": [
    {
     "data": {
      "text/html": [
       "<div>\n",
       "<style scoped>\n",
       "    .dataframe tbody tr th:only-of-type {\n",
       "        vertical-align: middle;\n",
       "    }\n",
       "\n",
       "    .dataframe tbody tr th {\n",
       "        vertical-align: top;\n",
       "    }\n",
       "\n",
       "    .dataframe thead th {\n",
       "        text-align: right;\n",
       "    }\n",
       "</style>\n",
       "<table border=\"1\" class=\"dataframe\">\n",
       "  <thead>\n",
       "    <tr style=\"text-align: right;\">\n",
       "      <th></th>\n",
       "      <th>Accession</th>\n",
       "      <th>Description</th>\n",
       "      <th>Gene symbol</th>\n",
       "      <th>dBTEV-WCL</th>\n",
       "      <th>astroEV-WCL</th>\n",
       "      <th>dBTEV-WCL_ttest</th>\n",
       "      <th>astroEV-WCL_ttest</th>\n",
       "      <th>dBTEV-WCL_score</th>\n",
       "      <th>astroEV-WCL_score</th>\n",
       "    </tr>\n",
       "  </thead>\n",
       "  <tbody>\n",
       "    <tr>\n",
       "      <th>0</th>\n",
       "      <td>O94955</td>\n",
       "      <td>Rho-related BTB domain-containing protein 3</td>\n",
       "      <td>RHOBTB3</td>\n",
       "      <td>5.314422</td>\n",
       "      <td>0.137433</td>\n",
       "      <td>19.054700</td>\n",
       "      <td>0.080988</td>\n",
       "      <td>101.264721</td>\n",
       "      <td>0.011131</td>\n",
       "    </tr>\n",
       "    <tr>\n",
       "      <th>1</th>\n",
       "      <td>P16035</td>\n",
       "      <td>Metalloproteinase inhibitor 2</td>\n",
       "      <td>TIMP2</td>\n",
       "      <td>7.803960</td>\n",
       "      <td>2.849515</td>\n",
       "      <td>11.711644</td>\n",
       "      <td>2.965486</td>\n",
       "      <td>91.397203</td>\n",
       "      <td>8.450196</td>\n",
       "    </tr>\n",
       "    <tr>\n",
       "      <th>2</th>\n",
       "      <td>P28072</td>\n",
       "      <td>Proteasome subunit beta type-6</td>\n",
       "      <td>PSMB6</td>\n",
       "      <td>6.663266</td>\n",
       "      <td>2.705477</td>\n",
       "      <td>11.525392</td>\n",
       "      <td>4.743221</td>\n",
       "      <td>76.796758</td>\n",
       "      <td>12.832676</td>\n",
       "    </tr>\n",
       "    <tr>\n",
       "      <th>3</th>\n",
       "      <td>Q9BTY2</td>\n",
       "      <td>Plasma alpha-L-fucosidase</td>\n",
       "      <td>FUCA2</td>\n",
       "      <td>4.870684</td>\n",
       "      <td>-1.358395</td>\n",
       "      <td>15.485417</td>\n",
       "      <td>1.452529</td>\n",
       "      <td>75.424575</td>\n",
       "      <td>-1.973109</td>\n",
       "    </tr>\n",
       "    <tr>\n",
       "      <th>4</th>\n",
       "      <td>P61966</td>\n",
       "      <td>AP-1 complex subunit sigma-1A</td>\n",
       "      <td>AP1S1</td>\n",
       "      <td>4.428192</td>\n",
       "      <td>-0.261821</td>\n",
       "      <td>16.928980</td>\n",
       "      <td>6.757104</td>\n",
       "      <td>74.964771</td>\n",
       "      <td>-1.769152</td>\n",
       "    </tr>\n",
       "  </tbody>\n",
       "</table>\n",
       "</div>"
      ],
      "text/plain": [
       "  Accession                                  Description Gene symbol  \\\n",
       "0    O94955  Rho-related BTB domain-containing protein 3     RHOBTB3   \n",
       "1    P16035                Metalloproteinase inhibitor 2       TIMP2   \n",
       "2    P28072               Proteasome subunit beta type-6       PSMB6   \n",
       "3    Q9BTY2                    Plasma alpha-L-fucosidase       FUCA2   \n",
       "4    P61966                AP-1 complex subunit sigma-1A       AP1S1   \n",
       "\n",
       "   dBTEV-WCL  astroEV-WCL  dBTEV-WCL_ttest  astroEV-WCL_ttest  \\\n",
       "0   5.314422     0.137433        19.054700           0.080988   \n",
       "1   7.803960     2.849515        11.711644           2.965486   \n",
       "2   6.663266     2.705477        11.525392           4.743221   \n",
       "3   4.870684    -1.358395        15.485417           1.452529   \n",
       "4   4.428192    -0.261821        16.928980           6.757104   \n",
       "\n",
       "   dBTEV-WCL_score  astroEV-WCL_score  \n",
       "0       101.264721           0.011131  \n",
       "1        91.397203           8.450196  \n",
       "2        76.796758          12.832676  \n",
       "3        75.424575          -1.973109  \n",
       "4        74.964771          -1.769152  "
      ]
     },
     "metadata": {},
     "output_type": "display_data"
    },
    {
     "name": "stdout",
     "output_type": "stream",
     "text": [
      "(3213, 9)\n"
     ]
    }
   ],
   "source": [
    "display(df2.head())\n",
    "print(df2.shape)"
   ]
  },
  {
   "cell_type": "code",
   "execution_count": 13,
   "metadata": {},
   "outputs": [],
   "source": [
    "df3 = df2.loc[(df2['dBTEV-WCL'] > 0) & (df2['astroEV-WCL'] > 0)].copy()"
   ]
  },
  {
   "cell_type": "code",
   "execution_count": 14,
   "metadata": {},
   "outputs": [],
   "source": [
    "df3['dBTEV-WCL-astroEV-WCL_score'] = df3['dBTEV-WCL_score'] - df3['astroEV-WCL_score']"
   ]
  },
  {
   "cell_type": "code",
   "execution_count": 15,
   "metadata": {},
   "outputs": [],
   "source": [
    "df3 = df3.sort_values(by='dBTEV-WCL-astroEV-WCL_score', ascending=False)"
   ]
  },
  {
   "cell_type": "code",
   "execution_count": 16,
   "metadata": {},
   "outputs": [
    {
     "data": {
      "text/html": [
       "<div>\n",
       "<style scoped>\n",
       "    .dataframe tbody tr th:only-of-type {\n",
       "        vertical-align: middle;\n",
       "    }\n",
       "\n",
       "    .dataframe tbody tr th {\n",
       "        vertical-align: top;\n",
       "    }\n",
       "\n",
       "    .dataframe thead th {\n",
       "        text-align: right;\n",
       "    }\n",
       "</style>\n",
       "<table border=\"1\" class=\"dataframe\">\n",
       "  <thead>\n",
       "    <tr style=\"text-align: right;\">\n",
       "      <th></th>\n",
       "      <th>Accession</th>\n",
       "      <th>Description</th>\n",
       "      <th>Gene symbol</th>\n",
       "      <th>dBTEV-WCL</th>\n",
       "      <th>astroEV-WCL</th>\n",
       "      <th>dBTEV-WCL_ttest</th>\n",
       "      <th>astroEV-WCL_ttest</th>\n",
       "      <th>dBTEV-WCL_score</th>\n",
       "      <th>astroEV-WCL_score</th>\n",
       "      <th>dBTEV-WCL-astroEV-WCL_score</th>\n",
       "    </tr>\n",
       "  </thead>\n",
       "  <tbody>\n",
       "    <tr>\n",
       "      <th>0</th>\n",
       "      <td>O94955</td>\n",
       "      <td>Rho-related BTB domain-containing protein 3</td>\n",
       "      <td>RHOBTB3</td>\n",
       "      <td>5.314422</td>\n",
       "      <td>0.137433</td>\n",
       "      <td>19.054700</td>\n",
       "      <td>0.080988</td>\n",
       "      <td>101.264721</td>\n",
       "      <td>0.011131</td>\n",
       "      <td>101.253590</td>\n",
       "    </tr>\n",
       "    <tr>\n",
       "      <th>1</th>\n",
       "      <td>P16035</td>\n",
       "      <td>Metalloproteinase inhibitor 2</td>\n",
       "      <td>TIMP2</td>\n",
       "      <td>7.803960</td>\n",
       "      <td>2.849515</td>\n",
       "      <td>11.711644</td>\n",
       "      <td>2.965486</td>\n",
       "      <td>91.397203</td>\n",
       "      <td>8.450196</td>\n",
       "      <td>82.947008</td>\n",
       "    </tr>\n",
       "    <tr>\n",
       "      <th>2</th>\n",
       "      <td>P28072</td>\n",
       "      <td>Proteasome subunit beta type-6</td>\n",
       "      <td>PSMB6</td>\n",
       "      <td>6.663266</td>\n",
       "      <td>2.705477</td>\n",
       "      <td>11.525392</td>\n",
       "      <td>4.743221</td>\n",
       "      <td>76.796758</td>\n",
       "      <td>12.832676</td>\n",
       "      <td>63.964082</td>\n",
       "    </tr>\n",
       "    <tr>\n",
       "      <th>5</th>\n",
       "      <td>Q92692</td>\n",
       "      <td>Nectin-2</td>\n",
       "      <td>NECTIN2</td>\n",
       "      <td>3.899050</td>\n",
       "      <td>0.172347</td>\n",
       "      <td>16.179525</td>\n",
       "      <td>0.251158</td>\n",
       "      <td>63.084780</td>\n",
       "      <td>0.043286</td>\n",
       "      <td>63.041494</td>\n",
       "    </tr>\n",
       "    <tr>\n",
       "      <th>6</th>\n",
       "      <td>Q08431</td>\n",
       "      <td>Lactadherin</td>\n",
       "      <td>MFGE8</td>\n",
       "      <td>4.957770</td>\n",
       "      <td>0.031628</td>\n",
       "      <td>12.250265</td>\n",
       "      <td>0.040876</td>\n",
       "      <td>60.733991</td>\n",
       "      <td>0.001293</td>\n",
       "      <td>60.732698</td>\n",
       "    </tr>\n",
       "  </tbody>\n",
       "</table>\n",
       "</div>"
      ],
      "text/plain": [
       "  Accession                                  Description Gene symbol  \\\n",
       "0    O94955  Rho-related BTB domain-containing protein 3     RHOBTB3   \n",
       "1    P16035                Metalloproteinase inhibitor 2       TIMP2   \n",
       "2    P28072               Proteasome subunit beta type-6       PSMB6   \n",
       "5    Q92692                                     Nectin-2     NECTIN2   \n",
       "6    Q08431                                  Lactadherin       MFGE8   \n",
       "\n",
       "   dBTEV-WCL  astroEV-WCL  dBTEV-WCL_ttest  astroEV-WCL_ttest  \\\n",
       "0   5.314422     0.137433        19.054700           0.080988   \n",
       "1   7.803960     2.849515        11.711644           2.965486   \n",
       "2   6.663266     2.705477        11.525392           4.743221   \n",
       "5   3.899050     0.172347        16.179525           0.251158   \n",
       "6   4.957770     0.031628        12.250265           0.040876   \n",
       "\n",
       "   dBTEV-WCL_score  astroEV-WCL_score  dBTEV-WCL-astroEV-WCL_score  \n",
       "0       101.264721           0.011131                   101.253590  \n",
       "1        91.397203           8.450196                    82.947008  \n",
       "2        76.796758          12.832676                    63.964082  \n",
       "5        63.084780           0.043286                    63.041494  \n",
       "6        60.733991           0.001293                    60.732698  "
      ]
     },
     "execution_count": 16,
     "metadata": {},
     "output_type": "execute_result"
    }
   ],
   "source": [
    "df3.head()"
   ]
  },
  {
   "cell_type": "code",
   "execution_count": 51,
   "metadata": {},
   "outputs": [],
   "source": [
    "df3.to_excel('proteomics_processeed.xlsx', index=False)"
   ]
  },
  {
   "cell_type": "code",
   "execution_count": null,
   "metadata": {},
   "outputs": [],
   "source": []
  }
 ],
 "metadata": {
  "kernelspec": {
   "display_name": "sentiment_analysis-C3cLsf5i",
   "language": "python",
   "name": "python3"
  },
  "language_info": {
   "codemirror_mode": {
    "name": "ipython",
    "version": 3
   },
   "file_extension": ".py",
   "mimetype": "text/x-python",
   "name": "python",
   "nbconvert_exporter": "python",
   "pygments_lexer": "ipython3",
   "version": "3.12.1"
  }
 },
 "nbformat": 4,
 "nbformat_minor": 2
}
